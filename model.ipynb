{
 "cells": [
  {
   "cell_type": "markdown",
   "metadata": {},
   "source": [
    "### NN Computer vision with Fashion MNIST from Zalando\n"
   ]
  },
  {
   "cell_type": "markdown",
   "metadata": {},
   "source": [
    "#### Import   \n"
   ]
  },
  {
   "cell_type": "code",
   "execution_count": 34,
   "metadata": {},
   "outputs": [],
   "source": [
    "import tensorflow as tf\n",
    "from keras import layers\n",
    "\n",
    "import matplotlib.pyplot as plt"
   ]
  },
  {
   "cell_type": "markdown",
   "metadata": {},
   "source": [
    "#### Load Dataset\n",
    "\n",
    "The main difference between loading image dataset with keras\n",
    "instead of scikitLearn is that in keras, each of them is represented\n",
    "as a 28x28 array rather than an array of size 784.\n",
    "+\n",
    "In keras, pixel intensities are represented as intergers from 0 to 255\n",
    "instead of floats from 0.0 to 255.0\n"
   ]
  },
  {
   "cell_type": "code",
   "execution_count": 35,
   "metadata": {},
   "outputs": [],
   "source": [
    "# Load fashion MNIST dataset\n",
    "fashion_mnist = tf.keras.datasets.fashion_mnist"
   ]
  },
  {
   "cell_type": "markdown",
   "metadata": {},
   "source": [
    "#### Load train and test data ( Total of 70_000 samples )"
   ]
  },
  {
   "cell_type": "code",
   "execution_count": 36,
   "metadata": {},
   "outputs": [],
   "source": [
    "# Load train and test data\n",
    "(x_fashion_train, y_fashion_train), (x_fashion_test, y_fashion_test) = fashion_mnist.load_data()\n",
    "\n",
    "x_train, y_train = x_fashion_train / 255.0, y_fashion_train\n",
    "x_test = x_fashion_test / 255.0"
   ]
  },
  {
   "cell_type": "markdown",
   "metadata": {},
   "source": [
    "#### Fashion MNIST Labels"
   ]
  },
  {
   "cell_type": "code",
   "execution_count": 37,
   "metadata": {},
   "outputs": [],
   "source": [
    "# Fashion MNIST Data Labels glossaire\n",
    "# The first column is the label\n",
    "class_names = [\n",
    "    \"T-shirt/top\", # 0 \n",
    "    \"Trouser\",     # 1\n",
    "    \"Pullover\",    # 2\n",
    "    \"Dress\",       # 3\n",
    "    \"Coat\",        # 4\n",
    "    \"Sandal\",      # 5\n",
    "    \"Shirt\",       # 6\n",
    "    \"Sneaker\",     # 7\n",
    "    \"Bag\",         # 8\n",
    "    \"Ankle boot\"   # 9\n",
    "]"
   ]
  },
  {
   "cell_type": "markdown",
   "metadata": {},
   "source": [
    "#### Building our NN"
   ]
  },
  {
   "cell_type": "code",
   "execution_count": 38,
   "metadata": {},
   "outputs": [],
   "source": [
    "model = tf.keras.models.Sequential([\n",
    "\n",
    "    # For preprocessing\n",
    "    layers.Flatten(input_shape=[28,28]), # Transform 28x28 image data into 1D array because default is 2D\n",
    "\n",
    "    # Creating hidden layer - Manages its own weight matrix with connections weight between neurons. \n",
    "    # It manages a Bias vector too * once per neuron\n",
    "\n",
    "    # ReLU to make sure that everything is greater than 0 ( No negative numbers )\n",
    "    \n",
    "    layers.Dense(300, activation='relu'), # Create a Hidden Layer of 300 neurons\n",
    "    layers.Dense(100, activation='relu'), # Create a Hidden Layer of 100 neurons\n",
    "\n",
    "    # The Output Layer - Last Layer - 10 because there's 10 classnames ( So it will give us 10 probabilities - index from 0 to 9)\n",
    "    layers.Dense(10, activation='softmax') # Normalize the Output with SoftMax\n",
    "])"
   ]
  },
  {
   "cell_type": "markdown",
   "metadata": {},
   "source": [
    "#### Compiling the model"
   ]
  },
  {
   "cell_type": "code",
   "execution_count": 39,
   "metadata": {},
   "outputs": [],
   "source": [
    "model.compile(\n",
    "    loss=\"sparse_categorical_crossentropy\",\n",
    "    optimizer=\"sgd\",\n",
    "    metrics=[\"accuracy\"]\n",
    ")"
   ]
  },
  {
   "cell_type": "markdown",
   "metadata": {},
   "source": [
    "#### Train the model\n"
   ]
  },
  {
   "cell_type": "code",
   "execution_count": 40,
   "metadata": {},
   "outputs": [
    {
     "name": "stdout",
     "output_type": "stream",
     "text": [
      "Epoch 1/30\n",
      "54000/54000 [==============================] - 30s 560us/step - loss: 0.5133 - accuracy: 0.8119 - val_loss: 0.4783 - val_accuracy: 0.8330\n",
      "Epoch 2/30\n",
      "54000/54000 [==============================] - 30s 547us/step - loss: 0.3938 - accuracy: 0.8562 - val_loss: 0.3774 - val_accuracy: 0.8582\n",
      "Epoch 3/30\n",
      "54000/54000 [==============================] - 29s 539us/step - loss: 0.3567 - accuracy: 0.8667 - val_loss: 0.3794 - val_accuracy: 0.8625\n",
      "Epoch 4/30\n",
      "54000/54000 [==============================] - 30s 549us/step - loss: 0.3330 - accuracy: 0.8761 - val_loss: 0.4147 - val_accuracy: 0.8535\n",
      "Epoch 5/30\n",
      "54000/54000 [==============================] - 30s 548us/step - loss: 0.3195 - accuracy: 0.8802 - val_loss: 0.3723 - val_accuracy: 0.8683\n",
      "Epoch 6/30\n",
      "54000/54000 [==============================] - 30s 556us/step - loss: 0.3025 - accuracy: 0.8860 - val_loss: 0.3474 - val_accuracy: 0.8737\n",
      "Epoch 7/30\n",
      "54000/54000 [==============================] - 29s 538us/step - loss: 0.2902 - accuracy: 0.8911 - val_loss: 0.3393 - val_accuracy: 0.8802\n",
      "Epoch 8/30\n",
      "54000/54000 [==============================] - 29s 543us/step - loss: 0.2828 - accuracy: 0.8931 - val_loss: 0.4131 - val_accuracy: 0.8647\n",
      "Epoch 9/30\n",
      "54000/54000 [==============================] - 29s 541us/step - loss: 0.2719 - accuracy: 0.8973 - val_loss: 0.3269 - val_accuracy: 0.8838\n",
      "Epoch 10/30\n",
      "54000/54000 [==============================] - 29s 541us/step - loss: 0.2639 - accuracy: 0.8996 - val_loss: 0.3471 - val_accuracy: 0.8825\n",
      "Epoch 11/30\n",
      "54000/54000 [==============================] - 29s 538us/step - loss: 0.2581 - accuracy: 0.9032 - val_loss: 0.3685 - val_accuracy: 0.8735\n",
      "Epoch 12/30\n",
      "54000/54000 [==============================] - 30s 564us/step - loss: 0.2501 - accuracy: 0.9049 - val_loss: 0.3497 - val_accuracy: 0.8778\n",
      "Epoch 13/30\n",
      "54000/54000 [==============================] - 29s 545us/step - loss: 0.2442 - accuracy: 0.9071 - val_loss: 0.3650 - val_accuracy: 0.8710\n",
      "Epoch 14/30\n",
      "54000/54000 [==============================] - 28s 517us/step - loss: 0.2383 - accuracy: 0.9101 - val_loss: 0.3382 - val_accuracy: 0.8878\n",
      "Epoch 15/30\n",
      "54000/54000 [==============================] - 28s 517us/step - loss: 0.2318 - accuracy: 0.9125 - val_loss: 0.3714 - val_accuracy: 0.8822\n",
      "Epoch 16/30\n",
      "54000/54000 [==============================] - 28s 516us/step - loss: 0.2256 - accuracy: 0.9138 - val_loss: 0.3828 - val_accuracy: 0.8832\n",
      "Epoch 17/30\n",
      "54000/54000 [==============================] - 29s 536us/step - loss: 0.2204 - accuracy: 0.9151 - val_loss: 0.3731 - val_accuracy: 0.8833\n",
      "Epoch 18/30\n",
      "54000/54000 [==============================] - 30s 548us/step - loss: 0.2177 - accuracy: 0.9165 - val_loss: 0.3836 - val_accuracy: 0.8788\n",
      "Epoch 19/30\n",
      "54000/54000 [==============================] - 32s 587us/step - loss: 0.2199 - accuracy: 0.9156 - val_loss: 0.3907 - val_accuracy: 0.8797\n",
      "Epoch 20/30\n",
      "54000/54000 [==============================] - 32s 589us/step - loss: 0.2099 - accuracy: 0.9203 - val_loss: 0.3953 - val_accuracy: 0.8833\n",
      "Epoch 21/30\n",
      "54000/54000 [==============================] - 31s 582us/step - loss: 0.2053 - accuracy: 0.9226 - val_loss: 0.3657 - val_accuracy: 0.8870\n",
      "Epoch 22/30\n",
      "54000/54000 [==============================] - 29s 544us/step - loss: 0.2046 - accuracy: 0.9218 - val_loss: 0.4290 - val_accuracy: 0.8688\n",
      "Epoch 23/30\n",
      "54000/54000 [==============================] - 29s 545us/step - loss: 0.1964 - accuracy: 0.9248 - val_loss: 0.3641 - val_accuracy: 0.8870\n",
      "Epoch 24/30\n",
      "54000/54000 [==============================] - 29s 544us/step - loss: 0.1920 - accuracy: 0.9261 - val_loss: 0.3877 - val_accuracy: 0.8847\n",
      "Epoch 25/30\n",
      "54000/54000 [==============================] - 30s 552us/step - loss: 0.1909 - accuracy: 0.9266 - val_loss: 0.3858 - val_accuracy: 0.8877\n",
      "Epoch 26/30\n",
      "54000/54000 [==============================] - 32s 585us/step - loss: 0.1891 - accuracy: 0.9272 - val_loss: 0.4381 - val_accuracy: 0.8798\n",
      "Epoch 27/30\n",
      "54000/54000 [==============================] - 31s 579us/step - loss: 0.1863 - accuracy: 0.9281 - val_loss: 0.4080 - val_accuracy: 0.8803\n",
      "Epoch 28/30\n",
      "54000/54000 [==============================] - 32s 586us/step - loss: 0.1798 - accuracy: 0.9316 - val_loss: 0.4168 - val_accuracy: 0.8817\n",
      "Epoch 29/30\n",
      "54000/54000 [==============================] - 32s 589us/step - loss: 0.1826 - accuracy: 0.9316 - val_loss: 0.4830 - val_accuracy: 0.8743\n",
      "Epoch 30/30\n",
      "54000/54000 [==============================] - 31s 572us/step - loss: 0.1858 - accuracy: 0.9301 - val_loss: 0.3914 - val_accuracy: 0.8897\n"
     ]
    },
    {
     "data": {
      "text/plain": [
       "<keras.callbacks.History at 0x35dfd6e10>"
      ]
     },
     "execution_count": 40,
     "metadata": {},
     "output_type": "execute_result"
    }
   ],
   "source": [
    "model.fit(\n",
    "    x_train,\n",
    "    y_train,\n",
    "    1,          # Batch Size / 1 Batch size = all the samples, Default is 32 (1719 samples per batch)\n",
    "    epochs=30,  # Number of time it will go through all the samples\n",
    "    validation_split=0.1 # Take the last 10% of samples and use them to validate\n",
    ")"
   ]
  },
  {
   "cell_type": "markdown",
   "metadata": {},
   "source": [
    "#### Testing our model by predicting test samples"
   ]
  },
  {
   "cell_type": "code",
   "execution_count": 41,
   "metadata": {},
   "outputs": [
    {
     "name": "stdout",
     "output_type": "stream",
     "text": [
      "1/1 [==============================] - 0s 30ms/step\n"
     ]
    }
   ],
   "source": [
    "x_toPredict = x_test[:1]\n",
    "y_proba = model.predict(x_toPredict) "
   ]
  },
  {
   "cell_type": "markdown",
   "metadata": {},
   "source": [
    "#### Show results"
   ]
  },
  {
   "cell_type": "code",
   "execution_count": 48,
   "metadata": {},
   "outputs": [
    {
     "name": "stdout",
     "output_type": "stream",
     "text": [
      "All probabilities : [[0. 0. 0. 0. 0. 0. 0. 0. 0. 1.]]\n"
     ]
    },
    {
     "data": {
      "image/png": "[encoded data removed]",
      "text/plain": [
       "<Figure size 640x480 with 1 Axes>"
      ]
     },
     "metadata": {},
     "output_type": "display_data"
    }
   ],
   "source": [
    "print(f\"All probabilities : {y_proba.round(2)}\")\n",
    "\n",
    "plt.imshow(x_test[0])\n",
    "plt.title(class_names[y_fashion_test[0]])\n",
    "plt.show()"
   ]
  }
 ],
 "metadata": {
  "kernelspec": {
   "display_name": "ml",
   "language": "python",
   "name": "python3"
  },
  "language_info": {
   "codemirror_mode": {
    "name": "ipython",
    "version": 3
   },
   "file_extension": ".py",
   "mimetype": "text/x-python",
   "name": "python",
   "nbconvert_exporter": "python",
   "pygments_lexer": "ipython3",
   "version": "3.11.5"
  }
 },
 "nbformat": 4,
 "nbformat_minor": 2
}
